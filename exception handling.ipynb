{
 "cells": [
  {
   "cell_type": "markdown",
   "id": "c564122f-7f5f-4e00-97cb-56542a47fe47",
   "metadata": {},
   "source": [
    "QUES1 . what is an exception in python? write the difference between an exception and syntax error."
   ]
  },
  {
   "cell_type": "raw",
   "id": "31e0fd1c-003c-4626-94fa-6b883b8a297c",
   "metadata": {},
   "source": [
    "ANS: In Python, an exception is an error that occurs during the execution of a program. When an exceptional condition is encountered, Python raises an exception, which interrupts the normal flow of the program and transfers control to an exception handler.\n",
    "\n",
    "\n",
    "On the other hand, a syntax error is a type of error that occurs when the Python interpreter encounters code that violates the rules of the Python language syntax. It typically indicates that there is a mistake in the way the code is written, such as missing or mismatched parentheses, incorrect indentation, or improper use of keywords."
   ]
  },
  {
   "cell_type": "markdown",
   "id": "45e79a61-be18-47a3-8f7f-183dee6ee651",
   "metadata": {},
   "source": [
    "QUES 2: what happens when an exception is not handled? explain with an example"
   ]
  },
  {
   "cell_type": "markdown",
   "id": "54ed841c-2a32-4462-add6-8884319318cb",
   "metadata": {},
   "source": [
    "ANS: When an exception is not handled in Python, it leads to the termination of the program with an error message, also known as an unhandled exception. This means that the normal flow of the program is disrupted, and the error message provides information about the exception that occurred."
   ]
  },
  {
   "cell_type": "code",
   "execution_count": 1,
   "id": "cbd891fd-2d7c-469b-a548-13da6a68dbaa",
   "metadata": {},
   "outputs": [
    {
     "ename": "ZeroDivisionError",
     "evalue": "division by zero",
     "output_type": "error",
     "traceback": [
      "\u001b[0;31m---------------------------------------------------------------------------\u001b[0m",
      "\u001b[0;31mZeroDivisionError\u001b[0m                         Traceback (most recent call last)",
      "Cell \u001b[0;32mIn[1], line 5\u001b[0m\n\u001b[1;32m      2\u001b[0m numerator \u001b[38;5;241m=\u001b[39m \u001b[38;5;241m10\u001b[39m\n\u001b[1;32m      3\u001b[0m denominator \u001b[38;5;241m=\u001b[39m \u001b[38;5;241m0\u001b[39m\n\u001b[0;32m----> 5\u001b[0m result \u001b[38;5;241m=\u001b[39m \u001b[43mnumerator\u001b[49m\u001b[43m \u001b[49m\u001b[38;5;241;43m/\u001b[39;49m\u001b[43m \u001b[49m\u001b[43mdenominator\u001b[49m  \u001b[38;5;66;03m# Raises a ZeroDivisionError\u001b[39;00m\n\u001b[1;32m      6\u001b[0m \u001b[38;5;28mprint\u001b[39m(\u001b[38;5;124m\"\u001b[39m\u001b[38;5;124mResult:\u001b[39m\u001b[38;5;124m\"\u001b[39m, result)\n\u001b[1;32m      7\u001b[0m \u001b[38;5;28mprint\u001b[39m(\u001b[38;5;124m\"\u001b[39m\u001b[38;5;124mProgram continues...\u001b[39m\u001b[38;5;124m\"\u001b[39m)\n",
      "\u001b[0;31mZeroDivisionError\u001b[0m: division by zero"
     ]
    }
   ],
   "source": [
    "# Example 1: Division by zero exception\n",
    "numerator = 10\n",
    "denominator = 0\n",
    "\n",
    "result = numerator / denominator  # Raises a ZeroDivisionError\n",
    "print(\"Result:\", result)\n",
    "print(\"Program continues...\")"
   ]
  },
  {
   "cell_type": "markdown",
   "id": "18dce228-63ee-4dc3-9c65-8b203a5f0beb",
   "metadata": {},
   "source": [
    "QUES 3: which python statement are used to catch and handle exceptions? explain with an example"
   ]
  },
  {
   "cell_type": "markdown",
   "id": "142400f7-b452-41ff-9665-a974d2d3f4a6",
   "metadata": {},
   "source": [
    "ANS: In Python, the try-except statement is used to catch and handle exceptions. It allows you to specify a block of code that might raise an exception and provides a mechanism to handle the exception gracefully without terminating the program."
   ]
  },
  {
   "cell_type": "code",
   "execution_count": 17,
   "id": "d216c96c-f040-4931-9c39-486af5bb0d49",
   "metadata": {},
   "outputs": [
    {
     "name": "stdout",
     "output_type": "stream",
     "text": [
      "division by zero\n",
      "the problem is solve\n"
     ]
    }
   ],
   "source": [
    "# Example 2: Exception handling with try-except\n",
    "import logging\n",
    "logging.basicConfig(filename = \" assignment.log\" , level = logging.DEBUG , format = '%(asctime)s - %(message)s')\n",
    "\n",
    "try:\n",
    "    numerator = 10\n",
    "    denominator = 0\n",
    "\n",
    "    result = numerator / denominator  # Raises a ZeroDivisionError\n",
    "    print(\"this is my result\",result)\n",
    "\n",
    "except ZeroDivisionError as e:\n",
    "    logging.error(\"this is an error message, ZeroDivisionError\")\n",
    "    print(e)\n",
    "finally:\n",
    "    print(\"the problem is solve\")"
   ]
  },
  {
   "cell_type": "code",
   "execution_count": null,
   "id": "c7153110-d968-4b7c-ba88-78bac7430b1a",
   "metadata": {},
   "outputs": [],
   "source": []
  },
  {
   "cell_type": "markdown",
   "id": "4611509f-23fd-40b1-90cf-ce7feb4ea1d1",
   "metadata": {},
   "source": [
    "QUES 4:  Explain with an example:\n",
    "\n",
    "    1 . try and else\n",
    "    2 . finally \n",
    "    3. raise"
   ]
  },
  {
   "cell_type": "code",
   "execution_count": 37,
   "id": "e658a467-f400-4b37-815d-080f7e7666ad",
   "metadata": {},
   "outputs": [
    {
     "name": "stdin",
     "output_type": "stream",
     "text": [
      "Enter a number:  45\n",
      "Enter another number:  0\n"
     ]
    },
    {
     "name": "stdout",
     "output_type": "stream",
     "text": [
      "Invalid input. Please enter numeric value, division by zero\n"
     ]
    }
   ],
   "source": [
    "# TRY AND EXCEPT EXAMPLE\n",
    "\n",
    "import logging\n",
    "logging.basicConfig(filename = \" assignment.log\" , level = logging.DEBUG , format = '%(asctime)s - %(message)s')\n",
    "\n",
    "try:\n",
    "    num1 = int(input(\"Enter a number: \"))\n",
    "    num2 = int(input(\"Enter another number: \"))\n",
    "\n",
    "    result = num1 / num2\n",
    "except (ZeroDivisionError,ValueError) as e:\n",
    "    logging.error(\"this is a zero division error\")\n",
    "    print(\"Invalid input. Please enter numeric value\"+',',e)\n",
    "else:\n",
    "    print(\"Result:\", result)\n"
   ]
  },
  {
   "cell_type": "code",
   "execution_count": 44,
   "id": "88abc0fd-133a-4cd2-a0f7-2011c7b69a99",
   "metadata": {},
   "outputs": [
    {
     "name": "stdout",
     "output_type": "stream",
     "text": [
      "Error: File not found.\n"
     ]
    }
   ],
   "source": [
    "# FINALLY EXAMPLE\n",
    "\n",
    "# Example 2: Finally statement\n",
    "\n",
    "file  = open(\"name.txt\",'w')\n",
    "file.write(\"this is my file\") \n",
    "\n",
    "import logging\n",
    "logging.basicConfig(filename = \" assignment.log\" , level = logging.DEBUG , format = '%(asctime)s - %(message)s')\n",
    "\n",
    "try:\n",
    "    file = open(\"example.txt\", \"r\")    # here we deliberatly given wrong fiule name which don't even exist\n",
    "    # Code to read the file\n",
    "except FileNotFoundError:\n",
    "    logging.error(\"here an err\")\n",
    "    print(\"Error: File not found.\")\n",
    "finally:\n",
    "    file.close() \n"
   ]
  },
  {
   "cell_type": "code",
   "execution_count": 64,
   "id": "c5495bd9-513d-43d0-a885-2b292db5593f",
   "metadata": {},
   "outputs": [
    {
     "name": "stdout",
     "output_type": "stream",
     "text": [
      "Error: List must not be empty.\n"
     ]
    }
   ],
   "source": [
    "# Example 3: Raise statement\n",
    "def calculate_average(numbers):\n",
    "    if not numbers:\n",
    "        raise ValueError(\"List must not be empty.\")\n",
    "\n",
    "    total = sum(numbers)\n",
    "    average = total / len(numbers)\n",
    "    return average\n",
    "\n",
    "try:\n",
    "    values = []\n",
    "    average = calculate_average(values)\n",
    "except ValueError as e:\n",
    "    print(\"Error:\", str(e))\n"
   ]
  },
  {
   "cell_type": "markdown",
   "id": "07ca9f4a-7524-49f7-8876-a25435656223",
   "metadata": {},
   "source": [
    "QUES: "
   ]
  },
  {
   "cell_type": "code",
   "execution_count": null,
   "id": "b9b25637-48af-49d9-a890-3e6d37c7df2f",
   "metadata": {},
   "outputs": [],
   "source": [
    "class InsufficientFundsError(Exception):\n",
    "    def __init__(self, account_number):\n",
    "        self.account_number = account_number\n",
    "        self.message = f\"Insufficient funds in account {account_number}\"\n",
    "\n",
    "class BankAccount:\n",
    "    def __init__(self, account_number, balance):\n",
    "        self.account_number = account_number\n",
    "        self.balance = balance\n",
    "\n",
    "    def withdraw(self, amount):\n",
    "        if amount > self.balance:\n",
    "            raise InsufficientFundsError(self.account_number)\n",
    "        self.balance -= amount\n",
    "        print(f\"Withdrew {amount} from account {self.account_number}. New balance: {self.balance}\")\n",
    "\n",
    "# Usage example\n",
    "account = BankAccount(\"12345\", 1000)\n",
    "\n",
    "try:\n",
    "    account.withdraw(2000)\n",
    "except InsufficientFundsError as e:\n",
    "    print(e.message)\n"
   ]
  }
 ],
 "metadata": {
  "kernelspec": {
   "display_name": "Python 3 (ipykernel)",
   "language": "python",
   "name": "python3"
  },
  "language_info": {
   "codemirror_mode": {
    "name": "ipython",
    "version": 3
   },
   "file_extension": ".py",
   "mimetype": "text/x-python",
   "name": "python",
   "nbconvert_exporter": "python",
   "pygments_lexer": "ipython3",
   "version": "3.10.8"
  }
 },
 "nbformat": 4,
 "nbformat_minor": 5
}
