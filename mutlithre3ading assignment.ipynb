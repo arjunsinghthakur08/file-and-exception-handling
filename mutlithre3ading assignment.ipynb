{
 "cells": [
  {
   "cell_type": "markdown",
   "id": "f5c9aa10-5903-45a2-817a-191a51b1991e",
   "metadata": {},
   "source": [
    "QUES1:  What is multithreading in python? hy is it used? Name the module used to handle threads in python"
   ]
  },
  {
   "cell_type": "markdown",
   "id": "d8a2f3d3-6e3f-4599-9d20-5dee052f1162",
   "metadata": {},
   "source": [
    "ANS: Multithreading in Python refers to the ability of a program to execute multiple threads concurrently, allowing multiple parts of the code to run simultaneously. A thread is a lightweight unit of execution within a program. Multithreading enables a program to achieve parallelism and can be used to perform multiple tasks concurrently, improving performance and responsiveness.\n",
    "\n",
    "Python's multithreading is particularly useful in scenarios where a program needs to handle multiple I/O-bound tasks, such as network requests or file operations. By using threads, these tasks can run concurrently without blocking the main program's execution."
   ]
  },
  {
   "cell_type": "markdown",
   "id": "4794e5c0-9a2e-4290-b96a-fdf2462c0d14",
   "metadata": {},
   "source": [
    "The module used to handle threads in Python is called threading. It provides a high-level interface for creating and managing threads. The threading module allows you to create threads by defining a subclass of the Thread class or by using the Thread object directly. It also provides synchronization primitives like locks, events, conditions, and semaphores to coordinate and communicate between threads."
   ]
  },
  {
   "cell_type": "code",
   "execution_count": 1,
   "id": "17c37680-f47e-48bd-b5a8-039bb09d2c36",
   "metadata": {},
   "outputs": [
    {
     "name": "stdout",
     "output_type": "stream",
     "text": [
      "Worker thread executing...\n",
      "Main thread executing...\n"
     ]
    }
   ],
   "source": [
    "import threading\n",
    "\n",
    "def worker():\n",
    "    print(\"Worker thread executing...\")\n",
    "\n",
    "# Create a thread\n",
    "thread = threading.Thread(target=worker)\n",
    "\n",
    "# Start the thread\n",
    "thread.start()\n",
    "\n",
    "# Main thread continues executing\n",
    "print(\"Main thread executing...\")\n"
   ]
  },
  {
   "cell_type": "markdown",
   "id": "a05911e1-5357-4f53-a31e-79a64f678b7b",
   "metadata": {},
   "source": [
    "QUES2: Why threading module used? rite the use of the following functions\n",
    "1. activeCount()\n",
    "2. currentThread()\n",
    "3. enumerate()"
   ]
  },
  {
   "cell_type": "markdown",
   "id": "6c066a80-978b-451f-be92-1edd2773209f",
   "metadata": {},
   "source": [
    "The threading module in Python is used for creating and managing threads. It provides a higher-level interface compared to the lower-level thread module\n",
    "\n",
    "\n",
    "1. activeCount(): This function returns the number of Thread objects currently alive. It gives you the count of active threads that are currently running or have not yet been joined or terminated.\n",
    "\n",
    "\n",
    "2. currentThread(): This function returns the current Thread object corresponding to the caller's thread of control. It can be used to obtain information about the current thread, such as its name or identifier. \n",
    "\n",
    "\n",
    "\n",
    "3. enumerate(): This function returns a list of all Thread objects currently alive. It returns a list of Thread objects that are active and have not yet been joined or terminated. "
   ]
  },
  {
   "cell_type": "code",
   "execution_count": 13,
   "id": "1991f06d-11f7-4f36-b654-231c1b163884",
   "metadata": {},
   "outputs": [
    {
     "name": "stdout",
     "output_type": "stream",
     "text": [
      "Worker thread executing...\n",
      "Active threads: 8\n"
     ]
    }
   ],
   "source": [
    "#active count\n",
    "\n",
    "import threading\n",
    "\n",
    "def worker():\n",
    "    print(\"Worker thread executing...\")\n",
    "\n",
    "# Create a thread\n",
    "thread = threading.Thread(target=worker)\n",
    "\n",
    "# Start the thread\n",
    "thread.start()\n",
    "\n",
    "# Get the count of active threads\n",
    "count = threading.active_count()\n",
    "print(\"Active threads:\", count)\n"
   ]
  },
  {
   "cell_type": "code",
   "execution_count": 10,
   "id": "092e6d0e-8185-4107-8499-fecb182041db",
   "metadata": {},
   "outputs": [
    {
     "name": "stdout",
     "output_type": "stream",
     "text": [
      "Worker thread: WorkerThread\n",
      "Main thread: MainThread\n"
     ]
    }
   ],
   "source": [
    "# current thread\n",
    "\n",
    "import threading\n",
    "\n",
    "def worker():\n",
    "    current = threading.current_thread()\n",
    "    print(\"Worker thread:\", current.name)\n",
    "\n",
    "# Create a thread\n",
    "thread = threading.Thread(target=worker, name=\"WorkerThread\")\n",
    "\n",
    "# Start the thread\n",
    "thread.start()\n",
    "\n",
    "# Get the current thread\n",
    "current = threading.current_thread()\n",
    "print(\"Main thread:\", current.name)\n"
   ]
  },
  {
   "cell_type": "code",
   "execution_count": 11,
   "id": "036f5c5c-8f72-4af5-b91a-7d5775e55f3e",
   "metadata": {},
   "outputs": [
    {
     "name": "stdout",
     "output_type": "stream",
     "text": [
      "Worker thread executing...\n",
      "Active threads:\n",
      "MainThread\n",
      "IOPub\n",
      "Heartbeat\n",
      "Thread-3 (_watch_pipe_fd)\n",
      "Thread-4 (_watch_pipe_fd)\n",
      "Control\n",
      "IPythonHistorySavingThread\n",
      "Thread-2\n"
     ]
    }
   ],
   "source": [
    "# enumerate\n",
    "\n",
    "import threading\n",
    "\n",
    "def worker():\n",
    "    print(\"Worker thread executing...\")\n",
    "\n",
    "# Create a thread\n",
    "thread = threading.Thread(target=worker)\n",
    "\n",
    "# Start the thread\n",
    "thread.start()\n",
    "\n",
    "# Get a list of all active threads\n",
    "threads = threading.enumerate()\n",
    "print(\"Active threads:\")\n",
    "for t in threads:\n",
    "    print(t.name)\n",
    "\n",
    "# Wait for the worker thread to complete\n",
    "thread.join()\n"
   ]
  },
  {
   "cell_type": "markdown",
   "id": "069d0d37-51fe-4af9-9da0-08a26f055d86",
   "metadata": {},
   "source": [
    "QUES 3: explain the following functions : \n",
    "  1. run , \n",
    "2. start , \n",
    "3. join, \n",
    "4. isAlive\n"
   ]
  },
  {
   "cell_type": "markdown",
   "id": "d6bd7629-0e3a-4051-9cae-b788860eedd2",
   "metadata": {},
   "source": [
    "1. run(): The run() function is not directly called by the user. Instead, it is meant to be overridden in a subclass of the Thread class. When a thread is started using the start() method, it calls the run() function internally. You can define your custom logic and actions within the run() method to be executed by the thread. By overriding this function, you can specify what the thread should do when it starts.\n",
    "\n",
    "2. start(): The start() method is used to start a thread's execution. It creates a new thread of control, initializes it, and invokes the run() method of the thread. Once a thread is started, it begins executing its own code concurrently with other threads. The start() method returns immediately, and the newly created thread runs independently in the background. It should only be called once on a Thread object. Attempting to start a thread that has already been started will raise an exception.\n",
    "\n",
    "3. join(): The join() method is used to wait for a thread to complete its execution. When a thread calls the join() method on another thread, it essentially blocks until the thread being joined terminates. This allows for synchronization between threads and ensures that the main program does not proceed until the joined thread has finished executing. It is common to use join() to wait for all created threads to finish before exiting the program.\n",
    "\n",
    "4. isAlive(): The isAlive() method is used to check whether a thread is currently executing or not. It returns True if the thread is still alive and False otherwise. A thread is considered alive from the moment it is started with start() until it completes its execution or is explicitly terminated. The isAlive() method is often used to determine the status of a thread and make decisions based on whether it is still running or has finished its execution."
   ]
  },
  {
   "cell_type": "code",
   "execution_count": 18,
   "id": "1a1a6ae8-bb1d-456c-9553-993795559ba4",
   "metadata": {},
   "outputs": [
    {
     "name": "stdout",
     "output_type": "stream",
     "text": [
      "Worker thread executing...\n",
      "Worker thread completed.\n"
     ]
    }
   ],
   "source": [
    "import threading\n",
    "import time\n",
    "\n",
    "import logging\n",
    "logging.basicConfig(filename = 'basic.log', level = logging.DEBUG, format = '%(asctime)s %(message)s ')\n",
    "\n",
    "def worker():\n",
    "    print(\"Worker thread executing...\")\n",
    "    time.sleep(2)\n",
    "    print(\"Worker thread completed.\")\n",
    "\n",
    "# Create a thread\n",
    "thread = threading.Thread(target=worker)\n",
    "\n",
    "# Start the thread\n",
    "thread.start()\n",
    "\n",
    "# Check if the thread is alive\n",
    "try:\n",
    "    \n",
    "    print(\"Is thread alive?\", thread.isAlive())\n",
    "except AttributeError as e:\n",
    "    logging.error(\"this can give error\")\n",
    "    \n",
    "\n",
    "# Wait for the thread to complete\n",
    "thread.join()\n",
    "\n",
    "# Check if the thread is alive after joining\n",
    "try:\n",
    "    \n",
    "    print(\"Is thread alive?\", thread.isAlive())\n",
    "    \n",
    "except Exception as e:\n",
    "    logging.error(\"this is error handling\")\n"
   ]
  },
  {
   "cell_type": "markdown",
   "id": "06d2cf6f-5509-48a2-8cc2-4c8e5a3444d9",
   "metadata": {},
   "source": [
    "QUES4. Write a python program to create two threads. Thread one must print the list of squares and thread\n",
    "two must print the list of cubes"
   ]
  },
  {
   "cell_type": "code",
   "execution_count": 25,
   "id": "c3bcba14-0863-447f-a893-a00a3135e77a",
   "metadata": {},
   "outputs": [],
   "source": [
    "import threading\n",
    "\n",
    "def print_squares(x):\n",
    "    return x**2\n",
    "\n",
    "def print_cubes(x):\n",
    "    return x**3\n",
    "# Create the first thread for printing squares\n",
    "thread1 = [threading.Thread(target = print_squares , args = (i,)) for i in range (1,11)]\n",
    "\n",
    "# Create the second thread for printing cubes\n",
    "thread2 = [threading.Thread(target = print_cubes, args = (i,)) for i in range (1,11)]\n",
    "\n",
    "# Start both threads\n",
    "for k in thread1:\n",
    "    k.start()\n",
    "    \n",
    "    \n",
    "for b in thread2:\n",
    "    b.start()"
   ]
  },
  {
   "cell_type": "markdown",
   "id": "2b189086-bed9-400e-aee4-587b507fbad0",
   "metadata": {},
   "source": [
    "QUES5 . State advantages and disadvantages of multithreading"
   ]
  },
  {
   "cell_type": "markdown",
   "id": "1e0adf97-4888-4c43-8167-c425bd6e88bd",
   "metadata": {},
   "source": [
    "Multithreading, the concurrent execution of multiple threads within a single program, offers several advantages and disadvantages. Let's explore them:\n",
    "\n",
    "Advantages of Multithreading:\n",
    "1. Responsiveness and Improved Performance: Multithreading allows for concurrent execution of tasks, which can enhance the responsiveness of an application. By dividing a program into multiple threads, it becomes possible to perform multiple tasks simultaneously, leading to improved overall performance and reduced execution time.\n",
    "\n",
    "2. Efficient Resource Utilization: Multithreading allows for better utilization of system resources, such as CPU time and memory. Instead of having a single thread waiting for I/O operations or other blocking tasks, the CPU can switch to executing another thread, making more efficient use of available resources.\n",
    "\n",
    "3. Simplified Program Design: Multithreading enables the decomposition of complex tasks into smaller, more manageable threads. This decomposition can simplify program design, making it easier to reason about and implement complex systems or algorithms.\n",
    "\n",
    "4. Shared Memory: Threads within a process can share memory, which simplifies communication and data sharing between threads. This shared memory allows threads to exchange information more efficiently than other inter-process communication mechanisms.\n",
    "\n",
    "Disadvantages of Multithreading:\n",
    "1. Complexity and Difficulty of Debugging: Multithreaded programs can be more challenging to design, implement, and debug compared to single-threaded programs. Synchronization and coordination between threads, avoiding race conditions and deadlocks, require careful consideration and can introduce subtle bugs that are difficult to diagnose and fix.\n",
    "\n",
    "2. Increased Complexity of Resource Management: Sharing resources among multiple threads requires careful management to avoid conflicts and ensure thread safety. Synchronization mechanisms, such as locks, semaphores, or mutexes, need to be used appropriately, which adds complexity to the code and may introduce performance overhead.\n",
    "\n",
    "3. Non-Determinism: Multithreading introduces non-deterministic behavior due to thread scheduling and potential race conditions. The order of thread execution can vary between runs, making it harder to predict and reason about the program's behavior accurately.\n",
    "\n",
    "4. Increased Memory Overhead: Each thread requires its own stack space, which can consume additional memory. As the number of threads increases, the memory overhead associated with thread management can become significant.\n",
    "\n",
    "5. Scalability Limitations: Although multithreading can improve performance on multi-core systems, there is a practical limit to the benefits gained from adding more threads. Beyond a certain point, the overhead of managing and synchronizing threads can outweigh the performance gains, resulting in diminishing returns."
   ]
  },
  {
   "cell_type": "markdown",
   "id": "33502aeb-f47f-449b-8919-ef30f4400130",
   "metadata": {},
   "source": [
    "QUES 6. Explain deadlocks and race conditions."
   ]
  },
  {
   "cell_type": "markdown",
   "id": "6942df13-ffa9-4fb4-8bcc-660f6261c84b",
   "metadata": {},
   "source": [
    "1. Deadlock:\n",
    "A deadlock occurs in a concurrent system when two or more threads or processes are unable to proceed because each is waiting for a resource that the other thread or process holds. In other words, it is a situation where two or more threads are stuck in a circular waiting state, resulting in a system-wide halt. Deadlocks typically occur when the following conditions are met:\n",
    "- Mutual Exclusion: The resources involved cannot be simultaneously accessed or shared.\n",
    "- Hold and Wait: A thread holds a resource while waiting for another resource.\n",
    "- No Preemption: Resources cannot be forcibly taken away from a thread; they can only be released voluntarily.\n",
    "- Circular Wait: A circular chain of threads exists, where each thread is waiting for a resource held by another thread in the chain.\n",
    "\n",
    "Deadlocks can lead to system instability and may require intervention, such as restarting the system or terminating processes, to resolve the deadlock situation.\n",
    "\n",
    "2. Race Condition:\n",
    "A race condition occurs when two or more threads or processes access shared data or resources concurrently, and the final result of the execution depends on the specific order in which the threads are scheduled. In other words, the outcome of the program becomes unpredictable because the threads \"race\" to access or modify shared data without proper synchronization.\n",
    "\n",
    "Race conditions can lead to incorrect or inconsistent results due to unexpected interleavings of operations. Race conditions typically occur when there is a lack of proper synchronization mechanisms to coordinate the access to shared resources.\n",
    "\n",
    "For example, consider two threads concurrently incrementing a shared variable. If the threads read the variable, increment it, and write the new value back without proper synchronization, they may overwrite each other's changes, leading to incorrect results.\n",
    "\n",
    "To mitigate race conditions, synchronization mechanisms, such as locks, semaphores, or atomic operations, should be used to ensure mutually exclusive access to shared resources. Proper synchronization ensures that only one thread can access a shared resource at a time, preventing race conditions and maintaining data integrity.\n",
    "\n",
    "Both deadlocks and race conditions are common issues in concurrent programming and can be challenging to detect and resolve. Careful design and implementation, along with the use of appropriate synchronization mechanisms, are crucial to avoiding these problems in concurrent systems."
   ]
  }
 ],
 "metadata": {
  "kernelspec": {
   "display_name": "Python 3 (ipykernel)",
   "language": "python",
   "name": "python3"
  },
  "language_info": {
   "codemirror_mode": {
    "name": "ipython",
    "version": 3
   },
   "file_extension": ".py",
   "mimetype": "text/x-python",
   "name": "python",
   "nbconvert_exporter": "python",
   "pygments_lexer": "ipython3",
   "version": "3.10.8"
  }
 },
 "nbformat": 4,
 "nbformat_minor": 5
}
