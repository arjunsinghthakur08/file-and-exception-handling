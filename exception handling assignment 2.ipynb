{
 "cells": [
  {
   "cell_type": "markdown",
   "id": "bdf5e3cc-be81-4ea5-b49d-118e04a4e3e2",
   "metadata": {},
   "source": [
    "Q1. Explain why we have to use the Exception class while creating a Custom Exception."
   ]
  },
  {
   "cell_type": "markdown",
   "id": "5b94c0b3-c402-4105-8c6a-796f068706ea",
   "metadata": {},
   "source": [
    "ANS: When creating a custom exception in Python, it is recommended to extend the built-in `Exception` class or one of its subclasses. Here's why:\n",
    "\n",
    "1. **Inheritance and Polymorphism:** By inheriting from the `Exception` class, your custom exception inherits all the properties and methods of the base class. This includes attributes like the exception message and methods like `__str__()` for string representation. Inheriting from `Exception` ensures that your custom exception can be used interchangeably with other exception types in exception handling code.\n",
    "\n",
    "2. **Consistency and Convention:** In Python, the convention is to subclass `Exception` (or its subclasses) when creating custom exceptions. Following conventions and established patterns makes your code more readable and maintainable for other developers. It also aligns with the standard library and third-party packages, ensuring consistency across different codebases.\n",
    "\n",
    "3. **Compatibility with Exception Handling Mechanisms:** Python's exception handling mechanism relies on the ability to catch exceptions of specific types. By extending `Exception`, your custom exception can be caught using a generic `except Exception` block or specifically caught using `except YourCustomException`. This compatibility ensures that your custom exception can be handled correctly in various error handling scenarios.\n",
    "\n",
    "4. **Error Differentiation:** Extending the `Exception` class allows you to differentiate between different types of exceptions. For example, you can catch specific custom exceptions separately and apply specific error handling logic based on the exception type. This flexibility is valuable when you need to handle different error conditions differently.\n",
    "\n",
    "In summary, by extending the `Exception` class when creating a custom exception, you ensure compatibility with Python's exception handling mechanisms, follow conventions, and inherit useful properties and methods."
   ]
  },
  {
   "cell_type": "markdown",
   "id": "8bd23c4e-c42f-44fa-a93d-262f5e7d1708",
   "metadata": {},
   "source": [
    "QUES:  Q2. Write a python program to print Python Exception Hierarchy."
   ]
  },
  {
   "cell_type": "markdown",
   "id": "1e4e9eb0-ba1f-4424-b19c-d699ce4954b9",
   "metadata": {},
   "source": [
    "Q3. What errors are defined in the ArithmeticError class? Explain any two with an example."
   ]
  },
  {
   "cell_type": "code",
   "execution_count": null,
   "id": "2797e4ef-8b99-459e-9f56-0e914dee72cf",
   "metadata": {},
   "outputs": [],
   "source": [
    "def print_exception_hierarchy(exception_class, indent=0):\n",
    "    print(\" \" * indent + exception_class.__name__)\n",
    "    for subclass in exception_class.__subclasses__():\n",
    "        print_exception_hierarchy(subclass, indent + 4)\n",
    "\n",
    "print_exception_hierarchy(BaseException)\n"
   ]
  },
  {
   "cell_type": "code",
   "execution_count": null,
   "id": "9f3ca86a-8e6c-4e66-bb41-62ae9c949a0d",
   "metadata": {},
   "outputs": [],
   "source": []
  },
  {
   "cell_type": "markdown",
   "id": "b6e18a3b-5b77-4f0b-88fc-665dbd77120a",
   "metadata": {},
   "source": [
    "Q3. What errors are defined in the ArithmeticError class? Explain any two with an example."
   ]
  },
  {
   "cell_type": "markdown",
   "id": "02fca157-7a81-4c2d-b6c6-30204f56b482",
   "metadata": {},
   "source": [
    "ANS:  ZeroDivisionError: This error occurs when attempting to divide a number by zero."
   ]
  },
  {
   "cell_type": "code",
   "execution_count": 8,
   "id": "661f6e93-a993-4476-bb03-3072cbe87cb0",
   "metadata": {},
   "outputs": [
    {
     "name": "stdout",
     "output_type": "stream",
     "text": [
      "Error: Division by zero!\n"
     ]
    }
   ],
   "source": [
    "a = 10\n",
    "b = 0\n",
    "try:\n",
    "    result = a / b\n",
    "except ZeroDivisionError:\n",
    "    print(\"Error: Division by zero!\")\n"
   ]
  },
  {
   "cell_type": "markdown",
   "id": "97881b24-1169-421b-8dee-e4505ef92335",
   "metadata": {},
   "source": [
    "OverflowError: This error occurs when an arithmetic operation exceeds the maximum representable value for a numeric type."
   ]
  },
  {
   "cell_type": "code",
   "execution_count": 9,
   "id": "e6b5f7f9-e56c-47af-b59b-b794fb0f3f6b",
   "metadata": {},
   "outputs": [],
   "source": [
    "a = 1e1000\n",
    "try:\n",
    "    result = a * a\n",
    "except OverflowError:\n",
    "    print(\"Error: Arithmetic operation resulted in overflow!\")\n"
   ]
  },
  {
   "cell_type": "markdown",
   "id": "ced14f58-0e74-4ad7-8521-9d4ec3d9af75",
   "metadata": {},
   "source": [
    "Q4. Why LookupError class is used? Explain with an example KeyError and IndexError."
   ]
  },
  {
   "cell_type": "markdown",
   "id": "912f2092-8cde-47ec-9098-9bfcd18070d6",
   "metadata": {},
   "source": [
    "KeyError: This exception occurs when a dictionary key or a set element is not found during a lookup operation."
   ]
  },
  {
   "cell_type": "code",
   "execution_count": 11,
   "id": "26edf204-12bf-43f6-b5ad-1bae9e5fc8af",
   "metadata": {},
   "outputs": [
    {
     "name": "stdout",
     "output_type": "stream",
     "text": [
      "Error: Key not found!\n"
     ]
    }
   ],
   "source": [
    "my_dict = {\"a\": 1, \"b\": 2, \"c\": 3}\n",
    "try:\n",
    "    value = my_dict[\"d\"]\n",
    "except KeyError:\n",
    "    print(\"Error: Key not found!\")\n"
   ]
  },
  {
   "cell_type": "markdown",
   "id": "20155c7c-a352-4dba-a941-84917562b639",
   "metadata": {},
   "source": [
    "IndexError: This exception occurs when an index is out of range in a sequence (e.g., list, tuple, string) during an indexing operation."
   ]
  },
  {
   "cell_type": "code",
   "execution_count": 12,
   "id": "428698cc-8396-45e4-9e65-ace62c3d8fa4",
   "metadata": {},
   "outputs": [
    {
     "name": "stdout",
     "output_type": "stream",
     "text": [
      "Error: Index out of range!\n"
     ]
    }
   ],
   "source": [
    "my_list = [1, 2, 3]\n",
    "try:\n",
    "    value = my_list[3]\n",
    "except IndexError:\n",
    "    print(\"Error: index out of range !\")\n"
   ]
  },
  {
   "cell_type": "markdown",
   "id": "9b24f13e-ec02-495d-823f-91aea25c7aee",
   "metadata": {},
   "source": [
    "Q5. Explain ImportError. What is ModuleNotFoundError?"
   ]
  },
  {
   "cell_type": "markdown",
   "id": "4b6b35f5-3e5b-4a36-8d5c-ed296feec936",
   "metadata": {},
   "source": [
    "ImportError is a built-in exception in Python that occurs when an import statement fails to find or load a module. It is a subclass of the Exception class. The ImportError exception can be raised due to various reasons, such as the module not being installed, the module name being misspelled, or the module file not being accessible."
   ]
  },
  {
   "cell_type": "code",
   "execution_count": 13,
   "id": "28964a90-68c1-483d-839a-5eab7dd579dc",
   "metadata": {},
   "outputs": [
    {
     "name": "stdout",
     "output_type": "stream",
     "text": [
      "Error: Failed to import module!\n"
     ]
    }
   ],
   "source": [
    "try:\n",
    "    import non_existent_module\n",
    "except ImportError:\n",
    "    print(\"Error: Failed to import module!\")\n"
   ]
  },
  {
   "cell_type": "markdown",
   "id": "47b337b0-fbaf-411d-8603-9dd529962dee",
   "metadata": {},
   "source": [
    "Q6. List down some best practices for exception handling in python."
   ]
  },
  {
   "cell_type": "markdown",
   "id": "9b6de485-5c4f-4d95-a038-7bdc6e0440f4",
   "metadata": {},
   "source": [
    "Certainly! Here are some best practices for exception handling in Python:\n",
    "\n",
    "1. **Specific Exception Handling:** Catch exceptions at the appropriate level of granularity. Instead of using a generic `except` clause, catch specific exceptions that you expect might occur. This allows you to handle different types of exceptions differently and provide more specific error messages.\n",
    "\n",
    "2. **Use Multiple Except Clauses:** If you need to handle different types of exceptions in different ways, use multiple `except` clauses to catch and handle each exception separately. This allows for more targeted error handling and avoids catching exceptions that you don't intend to handle.\n",
    "\n",
    "3. **Avoid Silent Failures:** Avoid catching exceptions without taking any action. It can lead to silent failures and make debugging difficult. If you catch an exception, log or print a meaningful error message to aid in troubleshooting and notify users about the issue.\n",
    "\n",
    "4. **Use Finally Block:** When necessary, use the `finally` block to execute cleanup code that should always run, regardless of whether an exception occurred or not. The `finally` block ensures that resources are properly released or operations are completed before exiting the code block.\n",
    "\n",
    "5. **Reraise Exceptions:** If you catch an exception but cannot handle it effectively, consider reraising the exception using `raise` without any arguments. This allows the exception to propagate up the call stack, giving higher-level code a chance to handle it appropriately.\n",
    "\n",
    "6. **Handle Exceptions Close to the Source:** Handle exceptions as close to the source of the error as possible. This promotes better separation of concerns and allows for more localized error handling. Catching exceptions too far away from the error source can make it harder to determine the cause of the exception.\n",
    "\n",
    "7. **Use Custom Exceptions:** Use custom exception classes to create specific error conditions and provide additional information about the exception. Custom exceptions make your code more expressive, allow for finer-grained error handling, and promote code readability.\n",
    "\n",
    "8. **Avoid Bare Except:** Avoid using a bare `except` clause (i.e., without specifying the exception type). It can catch unexpected exceptions and hide potential bugs. Be explicit about the exceptions you expect to catch.\n",
    "\n",
    "9. **Keep Error Messages Clear and Informative:** When handling exceptions, provide clear and informative error messages. Include relevant information such as the cause of the exception, the context in which it occurred, and any potential solutions or next steps for the user.\n",
    "\n",
    "10. **Test Exception Handling:** Test your code's exception handling by writing appropriate unit tests. Ensure that exceptions are raised and caught correctly, and that the expected error handling behavior is observed.\n",
    "\n"
   ]
  }
 ],
 "metadata": {
  "kernelspec": {
   "display_name": "Python 3 (ipykernel)",
   "language": "python",
   "name": "python3"
  },
  "language_info": {
   "codemirror_mode": {
    "name": "ipython",
    "version": 3
   },
   "file_extension": ".py",
   "mimetype": "text/x-python",
   "name": "python",
   "nbconvert_exporter": "python",
   "pygments_lexer": "ipython3",
   "version": "3.10.8"
  }
 },
 "nbformat": 4,
 "nbformat_minor": 5
}
