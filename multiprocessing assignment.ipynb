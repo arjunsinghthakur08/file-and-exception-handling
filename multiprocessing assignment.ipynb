{
 "cells": [
  {
   "cell_type": "markdown",
   "id": "5a951ed8-94ba-4f86-b0b3-8d8a3e39c86c",
   "metadata": {},
   "source": [
    "Q1. What is multiprocessing in python? Why is it useful?"
   ]
  },
  {
   "cell_type": "markdown",
   "id": "f9a7ffd1-f4f4-4472-bc5d-616fa3818ef4",
   "metadata": {},
   "source": [
    "In Python, multiprocessing is a module that allows the execution of multiple processes concurrently, thereby achieving parallelism. It enables you to spawn multiple processes, each running its own instance of the Python interpreter, and execute tasks simultaneously.\n",
    "\n",
    "The multiprocessing module provides an abstraction over the low-level threading module, allowing you to bypass the Global Interpreter Lock (GIL) limitation. The GIL in CPython (the reference implementation of Python) ensures that only one thread executes Python bytecode at a time, effectively preventing true parallel execution of threads. However, multiprocessing allows you to overcome this limitation by utilizing multiple processes instead of threads.\n",
    "\n",
    "There are several reasons why multiprocessing is useful:\n",
    "\n",
    "1. **Parallel Execution:** By using multiple processes, you can perform tasks in parallel, utilizing the available CPU cores. This can significantly speed up the execution of CPU-bound tasks, such as numerical computations or intensive data processing.\n",
    "\n",
    "2. **Improved Performance:** With multiprocessing, you can distribute the workload across multiple processes, taking advantage of all available system resources. This can lead to improved performance and reduced execution time for computationally intensive tasks.\n",
    "\n",
    "3. **Isolation:** Each process in multiprocessing runs in its own memory space, providing isolation between processes. This prevents one process from affecting the execution of another process, enhancing stability and reliability.\n",
    "\n",
    "4. **Fault Tolerance:** Since each process runs independently, if one process encounters an error or crashes, it does not affect the execution of other processes. This fault tolerance helps ensure that the overall application remains responsive and robust.\n",
    "\n",
    "5. **CPU-bound Tasks:** Multiprocessing is particularly useful for CPU-bound tasks, where the bottleneck is the processor rather than I/O operations. By utilizing multiple processes, you can fully utilize the available CPU resources and efficiently tackle computationally demanding tasks."
   ]
  },
  {
   "cell_type": "markdown",
   "id": "738990e2-828f-4138-88f7-b5610f81a163",
   "metadata": {},
   "source": [
    "Q2. What are the differences between multiprocessing and multithreading?"
   ]
  },
  {
   "cell_type": "markdown",
   "id": "7538abd9-cca8-4293-94b1-caf8194e97e7",
   "metadata": {},
   "source": [
    "Multiprocessing and multithreading are two different approaches to achieving concurrent execution in a program. Here are the key differences between them:\n",
    "\n",
    "1. **Parallelism Model:** Multiprocessing involves running multiple processes concurrently, where each process has its own memory space and runs independently. On the other hand, multithreading involves running multiple threads within a single process, where threads share the same memory space.\n",
    "\n",
    "2. **CPU Utilization:** Multiprocessing can take advantage of multiple CPU cores, allowing parallel execution of tasks and efficient utilization of available processing power. Multithreading, however, is limited by the Global Interpreter Lock (GIL) in CPython, which allows only one thread to execute Python bytecode at a time. As a result, multithreading in Python is more suitable for I/O-bound tasks rather than CPU-bound tasks.\n",
    "\n",
    "3. **Memory Isolation:** In multiprocessing, each process has its own memory space, providing isolation between processes. This isolation ensures that one process cannot directly access or modify the memory of another process. In multithreading, threads share the same memory space, which allows them to communicate and share data more easily. However, this shared memory can also lead to synchronization and concurrency issues if not properly managed.\n",
    "\n",
    "4. **Communication and Synchronization:** In multiprocessing, processes communicate and share data through mechanisms such as queues, pipes, and shared memory. Synchronization between processes is achieved using locks, semaphores, and other inter-process communication techniques. In multithreading, threads can communicate and share data more directly, as they can access the same memory space. Synchronization between threads is typically done using locks, condition variables, and other thread synchronization primitives.\n",
    "\n",
    "5. **Error Isolation:** In multiprocessing, if one process encounters an error or crashes, it does not affect the execution of other processes. Each process runs independently and has its own resources. In multithreading, an error or exception in one thread can potentially affect the entire process, as all threads share the same memory space.\n",
    "\n",
    "6. **Complexity and Overhead:** Multithreading generally has lower overhead compared to multiprocessing, as creating and managing threads is less expensive than creating and managing processes. However, the shared memory space in multithreading requires careful handling of synchronization and concurrency, which can introduce complexities and potential bugs in the code."
   ]
  },
  {
   "cell_type": "markdown",
   "id": "7f1e4835-e77a-4628-ad82-3d15187caed8",
   "metadata": {},
   "source": [
    "Q3. Write a python code to create a process using the multiprocessing module."
   ]
  },
  {
   "cell_type": "code",
   "execution_count": 3,
   "id": "d09c0561-cd10-45ae-bc38-0c52df1e5f62",
   "metadata": {},
   "outputs": [
    {
     "name": "stdout",
     "output_type": "stream",
     "text": [
      "HARE KRISHNA, SRILA PRABHUPADA KI JAI!\n"
     ]
    }
   ],
   "source": [
    "import multiprocessing\n",
    "\n",
    "def my_function(name):\n",
    "    \"\"\"Function to be executed in the separate process.\"\"\"\n",
    "    print(f\"HARE KRISHNA, {name}!\")\n",
    "\n",
    "if __name__ == \"__main__\":\n",
    "    # Create a new process\n",
    "    process = multiprocessing.Process(target=my_function, args=(\"SRILA PRABHUPADA KI JAI\",))\n",
    "\n",
    "    # Start the process\n",
    "    process.start()\n",
    "\n",
    "    # Wait for the process to complete\n",
    "    process.join()"
   ]
  },
  {
   "cell_type": "markdown",
   "id": "82d7bd38-2673-4a39-b16e-1ec680488b7e",
   "metadata": {},
   "source": [
    "Q4. What is a multiprocessing pool in python? Why is it used?"
   ]
  },
  {
   "cell_type": "markdown",
   "id": "3a5dc882-f00d-4b9d-90d3-4f728f95a92a",
   "metadata": {},
   "source": [
    "Here's why a multiprocessing pool is used:\n",
    "\n",
    "1. Parallel Execution: A pool allows you to parallelize the execution of tasks. Instead of executing tasks sequentially, you can distribute them across multiple processes, utilizing the available CPU cores and achieving parallelism. This can significantly speed up the execution of CPU-bound tasks.\n",
    "\n",
    "2. Efficient Resource Utilization: Creating a pool of worker processes allows you to reuse the existing processes for multiple tasks. This avoids the overhead of creating and terminating processes repeatedly, which can be expensive. The worker processes in the pool remain alive and ready to execute tasks, improving resource utilization.\n",
    "\n",
    "3. Task Distribution and Load Balancing: When you submit tasks to a pool, the pool automatically distributes the tasks among the worker processes. It handles the load balancing, ensuring that the tasks are evenly distributed across the available processes. This helps in optimizing the utilization of resources and improving overall performance.\n",
    "\n",
    "4. Simplified Interface: The multiprocessing.Pool provides a high-level interface that simplifies the process of parallel execution. You can submit tasks to the pool using the apply(), map(), or imap() methods, which abstract away the details of process creation, inter-process communication, and synchronization. This makes it easier to parallelize your code and focus on the logic of the tasks rather than the underlying multiprocessing implementation.\n",
    "\n",
    "5. Result Retrieval and Exception Handling: A multiprocessing pool provides mechanisms to retrieve the results of the executed tasks. You can obtain the results using the apply(), map(), or imap() methods. Additionally, it handles exceptions raised in worker processes and propagates them back to the main process, allowing you to handle and process the exceptions appropriately."
   ]
  },
  {
   "cell_type": "markdown",
   "id": "939c4252-2342-444f-88c0-5b23495ba0b2",
   "metadata": {},
   "source": [
    "Q5. How can we create a pool of worker processes in python using the multiprocessing module?"
   ]
  },
  {
   "cell_type": "code",
   "execution_count": 6,
   "id": "d3547f2e-257d-47f4-b332-a08e9d3bba6d",
   "metadata": {},
   "outputs": [
    {
     "name": "stdout",
     "output_type": "stream",
     "text": [
      "pranipaat, Balrama!\n",
      "pranipaat, Krishna!\n",
      "pranipaat, Arjun!\n"
     ]
    }
   ],
   "source": [
    "import multiprocessing\n",
    "\n",
    "def my_function(name):\n",
    "    \"\"\"Function to be executed by worker processes.\"\"\"\n",
    "    return f\"pranipaat, {name}!\"\n",
    "\n",
    "if __name__ == \"__main__\":\n",
    "    # Create a pool of worker processes\n",
    "    pool = multiprocessing.Pool()\n",
    "\n",
    "    # Submit tasks to the pool\n",
    "    results = []\n",
    "    names = [\"Balrama\", \"Krishna\", \"Arjun\"]\n",
    "    for name in names:\n",
    "        result = pool.apply_async(my_function, (name,))\n",
    "        results.append(result)\n",
    "\n",
    "    # Wait for all tasks to complete and retrieve results\n",
    "    for result in results:\n",
    "        print(result.get())\n",
    "\n",
    "    # Close the pool and wait for all processes to finish\n",
    "    pool.close()\n",
    "    pool.join()"
   ]
  },
  {
   "cell_type": "markdown",
   "id": "ea21348b-8249-4ebc-b985-71f5fd10f448",
   "metadata": {},
   "source": [
    "Q6. Write a python program to create 4 processes, each process should print a different number using the\n",
    "multiprocessing module in python."
   ]
  },
  {
   "cell_type": "code",
   "execution_count": 7,
   "id": "53bb472a-ecc0-40e9-9917-ece58456e2a6",
   "metadata": {},
   "outputs": [
    {
     "name": "stdout",
     "output_type": "stream",
     "text": [
      "1\n",
      "2\n",
      "3\n",
      "4\n"
     ]
    }
   ],
   "source": [
    "import multiprocessing\n",
    "\n",
    "def print_number(number):\n",
    "    \"\"\"Function to be executed by each process.\"\"\"\n",
    "    print(number)\n",
    "\n",
    "if __name__ == \"__main__\":\n",
    "    # Create a list of numbers\n",
    "    numbers = [1, 2, 3, 4]\n",
    "\n",
    "    # Create four processes and assign each a number to print\n",
    "    processes = []\n",
    "    for number in numbers:\n",
    "        process = multiprocessing.Process(target=print_number, args=(number,))\n",
    "        processes.append(process)\n",
    "\n",
    "    # Start the processes\n",
    "    for process in processes:\n",
    "        process.start()\n",
    "\n",
    "    # Wait for the processes to complete\n",
    "    for process in processes:\n",
    "        process.join()"
   ]
  },
  {
   "cell_type": "code",
   "execution_count": null,
   "id": "03032aee-fc6b-4f32-8527-5244b850931a",
   "metadata": {},
   "outputs": [],
   "source": []
  }
 ],
 "metadata": {
  "kernelspec": {
   "display_name": "Python 3 (ipykernel)",
   "language": "python",
   "name": "python3"
  },
  "language_info": {
   "codemirror_mode": {
    "name": "ipython",
    "version": 3
   },
   "file_extension": ".py",
   "mimetype": "text/x-python",
   "name": "python",
   "nbconvert_exporter": "python",
   "pygments_lexer": "ipython3",
   "version": "3.10.8"
  }
 },
 "nbformat": 4,
 "nbformat_minor": 5
}
